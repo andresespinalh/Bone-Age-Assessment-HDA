{
 "cells": [
  {
   "cell_type": "code",
   "execution_count": null,
   "metadata": {},
   "outputs": [],
   "source": [
    "# Hola Mundo!\n",
    "\n",
    "# Como fue el proyecto al final?\n",
    "# [] Bien\n",
    "# [] Mal\n",
    "# [] Que buena pregunta"
   ]
  }
 ],
 "metadata": {
  "language_info": {
   "name": "python"
  },
  "orig_nbformat": 4
 },
 "nbformat": 4,
 "nbformat_minor": 2
}

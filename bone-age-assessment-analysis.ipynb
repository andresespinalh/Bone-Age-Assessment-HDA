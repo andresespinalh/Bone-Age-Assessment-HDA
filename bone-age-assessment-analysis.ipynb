{
 "cells": [
  {
   "cell_type": "code",
   "execution_count": 1,
   "outputs": [],
   "source": [
    "# !pip install opencv\n",
    "# !pip install tensorflow\n",
    "# !pip install pandas\n",
    "# !pip install pillow\n",
    "# !pip install pydicom\n",
    "# !pip install pandas-profiling"
   ],
   "metadata": {
    "collapsed": false,
    "pycharm": {
     "name": "#%%\n"
    }
   }
  },
  {
   "cell_type": "code",
   "execution_count": null,
   "metadata": {
    "pycharm": {
     "name": "#%%\n"
    }
   },
   "outputs": [],
   "source": [
    "# Hola Mundo!\n",
    "\n",
    "# Como fue el proyecto al final?\n",
    "# [] Bien\n",
    "# [] Mal\n",
    "# [] Que buena pregunta"
   ]
  }
 ],
 "metadata": {
  "language_info": {
   "name": "python"
  },
  "orig_nbformat": 4
 },
 "nbformat": 4,
 "nbformat_minor": 2
}
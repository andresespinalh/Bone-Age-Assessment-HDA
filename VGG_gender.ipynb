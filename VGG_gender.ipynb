{
 "cells": [
  {
   "cell_type": "markdown",
   "source": [
    "# VGG and Gender"
   ],
   "metadata": {
    "collapsed": false
   }
  },
  {
   "cell_type": "code",
   "execution_count": 1,
   "outputs": [],
   "source": [
    "name = 'vgg_gender'"
   ],
   "metadata": {
    "collapsed": false
   }
  },
  {
   "cell_type": "code",
   "execution_count": 2,
   "metadata": {
    "collapsed": true
   },
   "outputs": [],
   "source": [
    "# Import needed libraries\n",
    "import tensorflow as tf\n",
    "import numpy as np\n",
    "import matplotlib.pyplot as plt\n",
    "import pandas as pd\n",
    "import os\n",
    "import utilities\n",
    "from tensorflow.keras.layers import Input, Conv2D, Dense, Flatten, Dropout, MaxPooling2D, BatchNormalization\n",
    "from tensorflow.keras.models import Model"
   ]
  },
  {
   "cell_type": "code",
   "execution_count": 3,
   "outputs": [
    {
     "name": "stdout",
     "output_type": "stream",
     "text": [
      "Tensorflow version:  2.10.1\n",
      "GPU available:  [PhysicalDevice(name='/physical_device:GPU:0', device_type='GPU')]\n",
      "GPU usage:  {'current': 0, 'peak': 0}\n"
     ]
    }
   ],
   "source": [
    "# Check Tensorflow version\n",
    "print('Tensorflow version: ',tf.__version__)\n",
    "# Check if GPU is being used\n",
    "print('GPU available: ', tf.config.list_physical_devices('GPU'))\n",
    "# If a GPU is being used, check that it's not being used by another process as well\n",
    "if tf.config.list_physical_devices('GPU'):\n",
    "  print(\"GPU usage: \", tf.config.experimental.get_memory_info('GPU:0'))"
   ],
   "metadata": {
    "collapsed": false
   }
  },
  {
   "cell_type": "markdown",
   "source": [
    "## Load the data"
   ],
   "metadata": {
    "collapsed": false
   }
  },
  {
   "cell_type": "code",
   "execution_count": 4,
   "outputs": [],
   "source": [
    "def process_image(path_gender, label):\n",
    "    # Desired size\n",
    "    size = 250\n",
    "    path, gender = path_gender\n",
    "    # Get the image\n",
    "    img = tf.io.read_file(path)\n",
    "    # Decode the PNG\n",
    "    img = tf.image.decode_png(img)\n",
    "    # Resize image\n",
    "    img = tf.image.resize(img, (size, size))\n",
    "    # Reshape image (this is not necessary but I do it so that I don't need to be modifying the shape in the input layer)\n",
    "    img = tf.reshape(img, [size, size, 1])\n",
    "    # Cast image to float32\n",
    "    img = tf.cast(img, tf.float32)\n",
    "    # Normalize image\n",
    "    img = img/255.0\n",
    "\n",
    "    return (img, gender), label"
   ],
   "metadata": {
    "collapsed": false
   }
  },
  {
   "cell_type": "code",
   "execution_count": 5,
   "outputs": [],
   "source": [
    "def get_data(csv_path, images_folder_path, id_col, label_col, gender_col):\n",
    "    df = pd.read_csv(csv_path)\n",
    "    paths = [images_folder_path + '/' + str(id) + '.png' for id in df[id_col].tolist()]\n",
    "    labels = df[label_col].tolist()\n",
    "    gender = [0 if (str(g)==\"False\" or str(g)=='FALSE') else 1 for g in df[gender_col].tolist()] # male 1, female 0\n",
    "    return paths, labels, gender"
   ],
   "metadata": {
    "collapsed": false
   }
  },
  {
   "cell_type": "code",
   "execution_count": 6,
   "outputs": [],
   "source": [
    "# Dataset used\n",
    "ds = 'original_r250p'\n",
    "\n",
    "# INPUT PIPELINE\n",
    "#------------------------\n",
    "# Training set\n",
    "# ------------------------\n",
    "train_paths, train_labels, train_gender = get_data( csv_path='./data/pre_processed/training/train.csv',\n",
    "                                                images_folder_path='./data/pre_processed/training/{}'.format(ds),\n",
    "                                                id_col='id',\n",
    "                                                label_col='boneage',\n",
    "                                                gender_col='male')\n",
    "\n",
    "train_dataset = tf.data.Dataset.from_tensor_slices(((train_paths,train_gender),train_labels)).map(process_image)\n",
    "train_dataset = train_dataset.shuffle(len(train_dataset)).batch(32)\n",
    "\n",
    "#------------------------\n",
    "#Validation set\n",
    "# ------------------------\n",
    "validation_paths, validation_labels, validation_gender = get_data(\n",
    "                                                csv_path='./data/pre_processed/validation/validation.csv',\n",
    "                                                images_folder_path='./data/pre_processed/validation/{}'.format(ds),\n",
    "                                                id_col='Image ID',\n",
    "                                                label_col='Bone Age (months)',\n",
    "                                                gender_col='male')\n",
    "validation_dataset = tf.data.Dataset.from_tensor_slices(((validation_paths,validation_gender),validation_labels)).map(process_image).batch(32)"
   ],
   "metadata": {
    "collapsed": false
   }
  },
  {
   "cell_type": "code",
   "execution_count": 7,
   "outputs": [],
   "source": [
    "# for (img,gender), label in train_dataset:\n",
    "#     print(gender)\n",
    "#     break"
   ],
   "metadata": {
    "collapsed": false
   }
  },
  {
   "cell_type": "markdown",
   "source": [
    "## Instantiate the model"
   ],
   "metadata": {
    "collapsed": false
   }
  },
  {
   "cell_type": "code",
   "execution_count": 8,
   "outputs": [],
   "source": [
    "# Model for only images\n",
    "\n",
    "input_img = Input(shape=train_dataset.element_spec[0][0].shape[1:])\n",
    "x = Conv2D(8, (3,3), activation='relu', padding='same')(input_img)\n",
    "x = BatchNormalization()(x)\n",
    "x = Conv2D(8, (3,3), activation='relu', padding='same')(x)\n",
    "x = MaxPooling2D((2,2))(x)\n",
    "x = Conv2D(16, (3,3), activation='relu', padding='same')(x)\n",
    "x = BatchNormalization()(x)\n",
    "x = Conv2D(16, (3,3), activation='relu', padding='same')(x)\n",
    "x = BatchNormalization()(x)\n",
    "x = MaxPooling2D((2,2))(x)\n",
    "x = Conv2D(32, (3,3), strides=2, activation='relu', padding='same')(x)\n",
    "x = BatchNormalization()(x)\n",
    "x = Conv2D(32, (3,3), strides=2, activation='relu', padding='same' )(x)\n",
    "x = MaxPooling2D((2,2))(x)\n",
    "x = Flatten()(x)\n",
    "x = Dropout(0.2)(x)\n",
    "x = Dense(512, activation='relu')(x)\n",
    "x = Dropout(0.2)(x)\n",
    "\n",
    "x = Model(inputs=input_img,outputs=x)"
   ],
   "metadata": {
    "collapsed": false
   }
  },
  {
   "cell_type": "code",
   "execution_count": 9,
   "outputs": [],
   "source": [
    "# Gender branch\n",
    "input_gender = Input(shape=(1,))\n",
    "y = Dense(100, activation='relu')(input_gender)\n",
    "\n",
    "# Concatenate the two layers\n",
    "z = tf.keras.layers.concatenate([x.output, y])\n",
    "z = Dense(100, activation='relu')(z)\n",
    "z = Dense(100, activation='relu')(z)\n",
    "z = Dense(1)(z)\n",
    "\n",
    "model = Model(inputs=[x.input, input_gender], outputs=z)"
   ],
   "metadata": {
    "collapsed": false
   }
  },
  {
   "cell_type": "code",
   "execution_count": 10,
   "outputs": [],
   "source": [
    "# Compile the model\n",
    "model.compile(optimizer=tf.keras.optimizers.Adam(learning_rate=0.001),\n",
    "              loss='mse',\n",
    "              metrics=[tf.keras.metrics.RootMeanSquaredError()])"
   ],
   "metadata": {
    "collapsed": false
   }
  },
  {
   "cell_type": "code",
   "execution_count": 11,
   "outputs": [],
   "source": [
    "# To make that the learning rate decreases\n",
    "def schedule(epoch, lr):\n",
    "    if epoch>=50:\n",
    "        return 0.0001\n",
    "    return 0.001\n",
    "scheduler = tf.keras.callbacks.LearningRateScheduler(schedule)"
   ],
   "metadata": {
    "collapsed": false
   }
  },
  {
   "cell_type": "code",
   "execution_count": 12,
   "outputs": [],
   "source": [
    "# Experiment tracking with tensorboard\n",
    "import time\n",
    "experiment_name = \"{}_{}_{}\".format(name,ds,int(time.time()))\n",
    "tensorboard = tf.keras.callbacks.TensorBoard(log_dir='./logs/{}'.format(experiment_name))"
   ],
   "metadata": {
    "collapsed": false
   }
  },
  {
   "cell_type": "code",
   "execution_count": 13,
   "outputs": [
    {
     "name": "stdout",
     "output_type": "stream",
     "text": [
      "Model: \"model_1\"\n",
      "__________________________________________________________________________________________________\n",
      " Layer (type)                   Output Shape         Param #     Connected to                     \n",
      "==================================================================================================\n",
      " input_1 (InputLayer)           [(None, 250, 250, 1  0           []                               \n",
      "                                )]                                                                \n",
      "                                                                                                  \n",
      " conv2d (Conv2D)                (None, 250, 250, 8)  80          ['input_1[0][0]']                \n",
      "                                                                                                  \n",
      " batch_normalization (BatchNorm  (None, 250, 250, 8)  32         ['conv2d[0][0]']                 \n",
      " alization)                                                                                       \n",
      "                                                                                                  \n",
      " conv2d_1 (Conv2D)              (None, 250, 250, 8)  584         ['batch_normalization[0][0]']    \n",
      "                                                                                                  \n",
      " max_pooling2d (MaxPooling2D)   (None, 125, 125, 8)  0           ['conv2d_1[0][0]']               \n",
      "                                                                                                  \n",
      " conv2d_2 (Conv2D)              (None, 125, 125, 16  1168        ['max_pooling2d[0][0]']          \n",
      "                                )                                                                 \n",
      "                                                                                                  \n",
      " batch_normalization_1 (BatchNo  (None, 125, 125, 16  64         ['conv2d_2[0][0]']               \n",
      " rmalization)                   )                                                                 \n",
      "                                                                                                  \n",
      " conv2d_3 (Conv2D)              (None, 125, 125, 16  2320        ['batch_normalization_1[0][0]']  \n",
      "                                )                                                                 \n",
      "                                                                                                  \n",
      " batch_normalization_2 (BatchNo  (None, 125, 125, 16  64         ['conv2d_3[0][0]']               \n",
      " rmalization)                   )                                                                 \n",
      "                                                                                                  \n",
      " max_pooling2d_1 (MaxPooling2D)  (None, 62, 62, 16)  0           ['batch_normalization_2[0][0]']  \n",
      "                                                                                                  \n",
      " conv2d_4 (Conv2D)              (None, 31, 31, 32)   4640        ['max_pooling2d_1[0][0]']        \n",
      "                                                                                                  \n",
      " batch_normalization_3 (BatchNo  (None, 31, 31, 32)  128         ['conv2d_4[0][0]']               \n",
      " rmalization)                                                                                     \n",
      "                                                                                                  \n",
      " conv2d_5 (Conv2D)              (None, 16, 16, 32)   9248        ['batch_normalization_3[0][0]']  \n",
      "                                                                                                  \n",
      " max_pooling2d_2 (MaxPooling2D)  (None, 8, 8, 32)    0           ['conv2d_5[0][0]']               \n",
      "                                                                                                  \n",
      " flatten (Flatten)              (None, 2048)         0           ['max_pooling2d_2[0][0]']        \n",
      "                                                                                                  \n",
      " dropout (Dropout)              (None, 2048)         0           ['flatten[0][0]']                \n",
      "                                                                                                  \n",
      " dense (Dense)                  (None, 512)          1049088     ['dropout[0][0]']                \n",
      "                                                                                                  \n",
      " input_2 (InputLayer)           [(None, 1)]          0           []                               \n",
      "                                                                                                  \n",
      " dropout_1 (Dropout)            (None, 512)          0           ['dense[0][0]']                  \n",
      "                                                                                                  \n",
      " dense_1 (Dense)                (None, 100)          200         ['input_2[0][0]']                \n",
      "                                                                                                  \n",
      " concatenate (Concatenate)      (None, 612)          0           ['dropout_1[0][0]',              \n",
      "                                                                  'dense_1[0][0]']                \n",
      "                                                                                                  \n",
      " dense_2 (Dense)                (None, 100)          61300       ['concatenate[0][0]']            \n",
      "                                                                                                  \n",
      " dense_3 (Dense)                (None, 100)          10100       ['dense_2[0][0]']                \n",
      "                                                                                                  \n",
      " dense_4 (Dense)                (None, 1)            101         ['dense_3[0][0]']                \n",
      "                                                                                                  \n",
      "==================================================================================================\n",
      "Total params: 1,139,117\n",
      "Trainable params: 1,138,973\n",
      "Non-trainable params: 144\n",
      "__________________________________________________________________________________________________\n"
     ]
    }
   ],
   "source": [
    "model.summary()"
   ],
   "metadata": {
    "collapsed": false
   }
  },
  {
   "cell_type": "markdown",
   "source": [
    "## Training (\"fit\") the model"
   ],
   "metadata": {
    "collapsed": false
   },
   "outputs": [
    {
     "ename": "InternalError",
     "evalue": "Failed copying input tensor from /job:localhost/replica:0/task:0/device:CPU:0 to /job:localhost/replica:0/task:0/device:GPU:0 in order to run _EagerConst: Dst tensor is not initialized.",
     "output_type": "error",
     "traceback": [
      "\u001B[1;31m---------------------------------------------------------------------------\u001B[0m",
      "\u001B[1;31mInternalError\u001B[0m                             Traceback (most recent call last)",
      "Cell \u001B[1;32mIn[13], line 3\u001B[0m\n\u001B[0;32m      1\u001B[0m \u001B[38;5;66;03m# Fit the model\u001B[39;00m\n\u001B[0;32m      2\u001B[0m batch_size \u001B[38;5;241m=\u001B[39m \u001B[38;5;241m3\u001B[39m  \u001B[38;5;66;03m# or any other integer value that works for your system\u001B[39;00m\n\u001B[1;32m----> 3\u001B[0m r \u001B[38;5;241m=\u001B[39m \u001B[43mmodel\u001B[49m\u001B[38;5;241;43m.\u001B[39;49m\u001B[43mfit\u001B[49m\u001B[43m(\u001B[49m\u001B[43mx_train\u001B[49m\u001B[43m,\u001B[49m\u001B[43m \u001B[49m\u001B[43my_train\u001B[49m\u001B[43m,\u001B[49m\u001B[43m \u001B[49m\u001B[43mvalidation_data\u001B[49m\u001B[38;5;241;43m=\u001B[39;49m\u001B[43m(\u001B[49m\u001B[43mx_validate\u001B[49m\u001B[43m,\u001B[49m\u001B[43m \u001B[49m\u001B[43my_validate\u001B[49m\u001B[43m)\u001B[49m\u001B[43m,\u001B[49m\u001B[43m \u001B[49m\u001B[43mepochs\u001B[49m\u001B[38;5;241;43m=\u001B[39;49m\u001B[38;5;241;43m15\u001B[39;49m\u001B[43m,\u001B[49m\u001B[43m \u001B[49m\u001B[43mbatch_size\u001B[49m\u001B[38;5;241;43m=\u001B[39;49m\u001B[43mbatch_size\u001B[49m\u001B[43m)\u001B[49m\n",
      "File \u001B[1;32m~\\anaconda3\\envs\\tensorflow_gpu\\lib\\site-packages\\keras\\utils\\traceback_utils.py:70\u001B[0m, in \u001B[0;36mfilter_traceback.<locals>.error_handler\u001B[1;34m(*args, **kwargs)\u001B[0m\n\u001B[0;32m     67\u001B[0m     filtered_tb \u001B[38;5;241m=\u001B[39m _process_traceback_frames(e\u001B[38;5;241m.\u001B[39m__traceback__)\n\u001B[0;32m     68\u001B[0m     \u001B[38;5;66;03m# To get the full stack trace, call:\u001B[39;00m\n\u001B[0;32m     69\u001B[0m     \u001B[38;5;66;03m# `tf.debugging.disable_traceback_filtering()`\u001B[39;00m\n\u001B[1;32m---> 70\u001B[0m     \u001B[38;5;28;01mraise\u001B[39;00m e\u001B[38;5;241m.\u001B[39mwith_traceback(filtered_tb) \u001B[38;5;28;01mfrom\u001B[39;00m \u001B[38;5;28mNone\u001B[39m\n\u001B[0;32m     71\u001B[0m \u001B[38;5;28;01mfinally\u001B[39;00m:\n\u001B[0;32m     72\u001B[0m     \u001B[38;5;28;01mdel\u001B[39;00m filtered_tb\n",
      "File \u001B[1;32m~\\anaconda3\\envs\\tensorflow_gpu\\lib\\site-packages\\tensorflow\\python\\framework\\constant_op.py:102\u001B[0m, in \u001B[0;36mconvert_to_eager_tensor\u001B[1;34m(value, ctx, dtype)\u001B[0m\n\u001B[0;32m    100\u001B[0m     dtype \u001B[38;5;241m=\u001B[39m dtypes\u001B[38;5;241m.\u001B[39mas_dtype(dtype)\u001B[38;5;241m.\u001B[39mas_datatype_enum\n\u001B[0;32m    101\u001B[0m ctx\u001B[38;5;241m.\u001B[39mensure_initialized()\n\u001B[1;32m--> 102\u001B[0m \u001B[38;5;28;01mreturn\u001B[39;00m \u001B[43mops\u001B[49m\u001B[38;5;241;43m.\u001B[39;49m\u001B[43mEagerTensor\u001B[49m\u001B[43m(\u001B[49m\u001B[43mvalue\u001B[49m\u001B[43m,\u001B[49m\u001B[43m \u001B[49m\u001B[43mctx\u001B[49m\u001B[38;5;241;43m.\u001B[39;49m\u001B[43mdevice_name\u001B[49m\u001B[43m,\u001B[49m\u001B[43m \u001B[49m\u001B[43mdtype\u001B[49m\u001B[43m)\u001B[49m\n",
      "\u001B[1;31mInternalError\u001B[0m: Failed copying input tensor from /job:localhost/replica:0/task:0/device:CPU:0 to /job:localhost/replica:0/task:0/device:GPU:0 in order to run _EagerConst: Dst tensor is not initialized."
     ]
    },
    {
     "name": "stdout",
     "output_type": "stream",
     "text": [
      "208/395 [==============>...............] - ETA: 22s - loss: 3861.5698 - root_mean_squared_error: 62.1415"
     ]
    }
   ],
   "execution_count": 13
  },
  {
   "cell_type": "code",
   "execution_count": 14,
   "outputs": [
    {
     "name": "stdout",
     "output_type": "stream",
     "text": [
      "Epoch 1/50\n",
      "395/395 [==============================] - 62s 120ms/step - loss: 1576.9639 - root_mean_squared_error: 39.7110 - val_loss: 2294.2993 - val_root_mean_squared_error: 47.8988 - lr: 0.0010\n",
      "Epoch 2/50\n",
      "395/395 [==============================] - 52s 123ms/step - loss: 975.1426 - root_mean_squared_error: 31.2273 - val_loss: 839.6218 - val_root_mean_squared_error: 28.9762 - lr: 0.0010\n",
      "Epoch 3/50\n",
      "395/395 [==============================] - 52s 123ms/step - loss: 667.6617 - root_mean_squared_error: 25.8392 - val_loss: 895.7853 - val_root_mean_squared_error: 29.9297 - lr: 0.0010\n",
      "Epoch 4/50\n",
      "395/395 [==============================] - 52s 123ms/step - loss: 548.7211 - root_mean_squared_error: 23.4248 - val_loss: 506.9703 - val_root_mean_squared_error: 22.5160 - lr: 0.0010\n",
      "Epoch 5/50\n",
      "395/395 [==============================] - 52s 123ms/step - loss: 468.5044 - root_mean_squared_error: 21.6450 - val_loss: 435.7224 - val_root_mean_squared_error: 20.8740 - lr: 0.0010\n",
      "Epoch 6/50\n",
      "395/395 [==============================] - 52s 124ms/step - loss: 400.4646 - root_mean_squared_error: 20.0116 - val_loss: 769.0105 - val_root_mean_squared_error: 27.7310 - lr: 0.0010\n",
      "Epoch 7/50\n",
      "395/395 [==============================] - 53s 124ms/step - loss: 380.6516 - root_mean_squared_error: 19.5103 - val_loss: 470.2346 - val_root_mean_squared_error: 21.6849 - lr: 0.0010\n",
      "Epoch 8/50\n",
      "395/395 [==============================] - 53s 124ms/step - loss: 338.2855 - root_mean_squared_error: 18.3925 - val_loss: 375.5230 - val_root_mean_squared_error: 19.3784 - lr: 0.0010\n",
      "Epoch 9/50\n",
      "395/395 [==============================] - 53s 125ms/step - loss: 299.2556 - root_mean_squared_error: 17.2990 - val_loss: 348.2080 - val_root_mean_squared_error: 18.6603 - lr: 0.0010\n",
      "Epoch 10/50\n",
      "395/395 [==============================] - 53s 124ms/step - loss: 281.3508 - root_mean_squared_error: 16.7735 - val_loss: 273.6686 - val_root_mean_squared_error: 16.5429 - lr: 0.0010\n",
      "Epoch 11/50\n",
      "395/395 [==============================] - 53s 124ms/step - loss: 279.4303 - root_mean_squared_error: 16.7162 - val_loss: 616.8909 - val_root_mean_squared_error: 24.8373 - lr: 0.0010\n",
      "Epoch 12/50\n",
      "395/395 [==============================] - 51s 121ms/step - loss: 257.0081 - root_mean_squared_error: 16.0315 - val_loss: 488.8378 - val_root_mean_squared_error: 22.1097 - lr: 0.0010\n",
      "Epoch 13/50\n",
      "395/395 [==============================] - 53s 125ms/step - loss: 248.7422 - root_mean_squared_error: 15.7716 - val_loss: 249.6436 - val_root_mean_squared_error: 15.8001 - lr: 0.0010\n",
      "Epoch 14/50\n",
      "395/395 [==============================] - 54s 125ms/step - loss: 230.7325 - root_mean_squared_error: 15.1899 - val_loss: 408.4018 - val_root_mean_squared_error: 20.2090 - lr: 0.0010\n",
      "Epoch 15/50\n",
      "395/395 [==============================] - 53s 124ms/step - loss: 211.7597 - root_mean_squared_error: 14.5520 - val_loss: 343.8432 - val_root_mean_squared_error: 18.5430 - lr: 0.0010\n",
      "Epoch 16/50\n",
      "395/395 [==============================] - 53s 123ms/step - loss: 222.2528 - root_mean_squared_error: 14.9081 - val_loss: 572.8287 - val_root_mean_squared_error: 23.9338 - lr: 0.0010\n",
      "Epoch 17/50\n",
      "395/395 [==============================] - 53s 123ms/step - loss: 189.9252 - root_mean_squared_error: 13.7813 - val_loss: 468.7194 - val_root_mean_squared_error: 21.6499 - lr: 0.0010\n",
      "Epoch 18/50\n",
      "395/395 [==============================] - 53s 125ms/step - loss: 199.1633 - root_mean_squared_error: 14.1125 - val_loss: 355.5255 - val_root_mean_squared_error: 18.8554 - lr: 0.0010\n",
      "Epoch 19/50\n",
      "395/395 [==============================] - 53s 124ms/step - loss: 187.3008 - root_mean_squared_error: 13.6858 - val_loss: 557.5790 - val_root_mean_squared_error: 23.6131 - lr: 0.0010\n",
      "Epoch 20/50\n",
      "395/395 [==============================] - 54s 125ms/step - loss: 182.1901 - root_mean_squared_error: 13.4978 - val_loss: 278.9889 - val_root_mean_squared_error: 16.7030 - lr: 0.0010\n",
      "Epoch 21/50\n",
      "395/395 [==============================] - 54s 124ms/step - loss: 174.2055 - root_mean_squared_error: 13.1987 - val_loss: 441.7414 - val_root_mean_squared_error: 21.0176 - lr: 0.0010\n",
      "Epoch 22/50\n",
      "395/395 [==============================] - 54s 124ms/step - loss: 164.3321 - root_mean_squared_error: 12.8192 - val_loss: 392.1907 - val_root_mean_squared_error: 19.8038 - lr: 0.0010\n",
      "Epoch 23/50\n",
      "395/395 [==============================] - 48s 111ms/step - loss: 165.4539 - root_mean_squared_error: 12.8629 - val_loss: 233.0136 - val_root_mean_squared_error: 15.2648 - lr: 0.0010\n",
      "Epoch 24/50\n",
      "395/395 [==============================] - 48s 110ms/step - loss: 163.8162 - root_mean_squared_error: 12.7991 - val_loss: 438.8947 - val_root_mean_squared_error: 20.9498 - lr: 0.0010\n",
      "Epoch 25/50\n",
      "395/395 [==============================] - 48s 110ms/step - loss: 162.7556 - root_mean_squared_error: 12.7576 - val_loss: 326.8723 - val_root_mean_squared_error: 18.0796 - lr: 0.0010\n",
      "Epoch 26/50\n",
      "395/395 [==============================] - 49s 114ms/step - loss: 149.3793 - root_mean_squared_error: 12.2221 - val_loss: 371.9006 - val_root_mean_squared_error: 19.2847 - lr: 0.0010\n",
      "Epoch 27/50\n",
      "395/395 [==============================] - 50s 114ms/step - loss: 144.8872 - root_mean_squared_error: 12.0369 - val_loss: 295.5456 - val_root_mean_squared_error: 17.1914 - lr: 0.0010\n",
      "Epoch 28/50\n",
      "395/395 [==============================] - 49s 113ms/step - loss: 145.3120 - root_mean_squared_error: 12.0545 - val_loss: 267.2475 - val_root_mean_squared_error: 16.3477 - lr: 0.0010\n",
      "Epoch 29/50\n",
      "395/395 [==============================] - 49s 111ms/step - loss: 135.3477 - root_mean_squared_error: 11.6339 - val_loss: 244.9957 - val_root_mean_squared_error: 15.6523 - lr: 0.0010\n",
      "Epoch 30/50\n",
      "395/395 [==============================] - 49s 111ms/step - loss: 134.2991 - root_mean_squared_error: 11.5887 - val_loss: 246.0936 - val_root_mean_squared_error: 15.6874 - lr: 0.0010\n",
      "Epoch 31/50\n",
      "395/395 [==============================] - 48s 110ms/step - loss: 130.0049 - root_mean_squared_error: 11.4020 - val_loss: 248.8429 - val_root_mean_squared_error: 15.7748 - lr: 0.0010\n",
      "Epoch 32/50\n",
      "395/395 [==============================] - 49s 112ms/step - loss: 125.9078 - root_mean_squared_error: 11.2209 - val_loss: 319.3196 - val_root_mean_squared_error: 17.8695 - lr: 0.0010\n",
      "Epoch 33/50\n",
      "395/395 [==============================] - 49s 111ms/step - loss: 134.5522 - root_mean_squared_error: 11.5997 - val_loss: 473.7468 - val_root_mean_squared_error: 21.7657 - lr: 0.0010\n",
      "Epoch 34/50\n",
      "395/395 [==============================] - 50s 114ms/step - loss: 125.4567 - root_mean_squared_error: 11.2007 - val_loss: 330.3385 - val_root_mean_squared_error: 18.1752 - lr: 0.0010\n",
      "Epoch 35/50\n",
      "395/395 [==============================] - 50s 113ms/step - loss: 120.2776 - root_mean_squared_error: 10.9671 - val_loss: 239.7558 - val_root_mean_squared_error: 15.4840 - lr: 0.0010\n",
      "Epoch 36/50\n",
      "395/395 [==============================] - 49s 110ms/step - loss: 113.6572 - root_mean_squared_error: 10.6610 - val_loss: 269.6360 - val_root_mean_squared_error: 16.4206 - lr: 0.0010\n",
      "Epoch 37/50\n",
      "395/395 [==============================] - 49s 111ms/step - loss: 112.1043 - root_mean_squared_error: 10.5879 - val_loss: 211.1703 - val_root_mean_squared_error: 14.5317 - lr: 0.0010\n",
      "Epoch 38/50\n",
      "395/395 [==============================] - 51s 114ms/step - loss: 103.2642 - root_mean_squared_error: 10.1619 - val_loss: 240.9687 - val_root_mean_squared_error: 15.5232 - lr: 0.0010\n",
      "Epoch 39/50\n",
      "395/395 [==============================] - 53s 118ms/step - loss: 101.3742 - root_mean_squared_error: 10.0685 - val_loss: 241.6632 - val_root_mean_squared_error: 15.5455 - lr: 0.0010\n",
      "Epoch 40/50\n",
      "395/395 [==============================] - 50s 114ms/step - loss: 97.0223 - root_mean_squared_error: 9.8500 - val_loss: 229.2821 - val_root_mean_squared_error: 15.1421 - lr: 0.0010\n",
      "Epoch 41/50\n",
      "395/395 [==============================] - 50s 113ms/step - loss: 100.5314 - root_mean_squared_error: 10.0265 - val_loss: 409.8174 - val_root_mean_squared_error: 20.2439 - lr: 0.0010\n",
      "Epoch 42/50\n",
      "395/395 [==============================] - 49s 110ms/step - loss: 99.9222 - root_mean_squared_error: 9.9961 - val_loss: 280.3057 - val_root_mean_squared_error: 16.7423 - lr: 0.0010\n",
      "Epoch 43/50\n",
      "395/395 [==============================] - 49s 111ms/step - loss: 92.9521 - root_mean_squared_error: 9.6412 - val_loss: 257.4615 - val_root_mean_squared_error: 16.0456 - lr: 0.0010\n",
      "Epoch 44/50\n",
      "395/395 [==============================] - 50s 113ms/step - loss: 87.2848 - root_mean_squared_error: 9.3426 - val_loss: 280.4892 - val_root_mean_squared_error: 16.7478 - lr: 0.0010\n",
      "Epoch 45/50\n",
      "395/395 [==============================] - 51s 115ms/step - loss: 89.0634 - root_mean_squared_error: 9.4373 - val_loss: 299.7484 - val_root_mean_squared_error: 17.3132 - lr: 0.0010\n",
      "Epoch 46/50\n",
      "395/395 [==============================] - 50s 110ms/step - loss: 92.8407 - root_mean_squared_error: 9.6354 - val_loss: 281.4738 - val_root_mean_squared_error: 16.7772 - lr: 0.0010\n",
      "Epoch 47/50\n",
      "395/395 [==============================] - 53s 118ms/step - loss: 83.4484 - root_mean_squared_error: 9.1350 - val_loss: 297.3685 - val_root_mean_squared_error: 17.2444 - lr: 0.0010\n",
      "Epoch 48/50\n",
      "395/395 [==============================] - 59s 131ms/step - loss: 82.8911 - root_mean_squared_error: 9.1045 - val_loss: 222.0805 - val_root_mean_squared_error: 14.9024 - lr: 0.0010\n",
      "Epoch 49/50\n",
      "395/395 [==============================] - 51s 114ms/step - loss: 79.2843 - root_mean_squared_error: 8.9042 - val_loss: 249.9211 - val_root_mean_squared_error: 15.8089 - lr: 0.0010\n",
      "Epoch 50/50\n",
      "395/395 [==============================] - 53s 118ms/step - loss: 79.0144 - root_mean_squared_error: 8.8890 - val_loss: 240.9824 - val_root_mean_squared_error: 15.5236 - lr: 0.0010\n"
     ]
    }
   ],
   "source": [
    "# Fit the model\n",
    "r = model.fit(train_dataset, validation_data = validation_dataset, epochs=50, callbacks=[scheduler, tensorboard])"
   ],
   "metadata": {
    "collapsed": false
   }
  },
  {
   "cell_type": "markdown",
   "source": [
    "## Save the model"
   ],
   "metadata": {
    "collapsed": false
   },
   "outputs": [
    {
     "name": "stdout",
     "output_type": "stream",
     "text": [
      "221/395 [===============>..............] - ETA: 16s - loss: 1783.6154 - root_mean_squared_error: 42.2329"
     ]
    }
   ]
  },
  {
   "cell_type": "code",
   "execution_count": 15,
   "outputs": [],
   "source": [
    "# Let's now save our model to a file\n",
    "model.save('./models/{}.h5'.format(experiment_name))"
   ],
   "metadata": {
    "collapsed": false
   }
  },
  {
   "cell_type": "markdown",
   "source": [
    "## Make predictions\n"
   ],
   "metadata": {
    "collapsed": false
   }
  },
  {
   "cell_type": "code",
   "execution_count": 16,
   "outputs": [
    {
     "name": "stdout",
     "output_type": "stream",
     "text": [
      "45/45 [==============================] - 1s 26ms/step\n"
     ]
    }
   ],
   "source": [
    "p_test = model.predict(validation_dataset).reshape(-1)"
   ],
   "metadata": {
    "collapsed": false
   }
  },
  {
   "cell_type": "code",
   "execution_count": 17,
   "outputs": [
    {
     "data": {
      "text/plain": "<Figure size 640x480 with 1 Axes>",
      "image/png": "[encoded data removed]"
     },
     "metadata": {},
     "output_type": "display_data"
    }
   ],
   "source": [
    "# Show some misclassified examples\n",
    "y_test = np.array([label.numpy() for (img,gender), label in validation_dataset.unbatch()])\n",
    "x_test = np.array([img.numpy() for (img,gender), label in validation_dataset.unbatch()])\n",
    "difference = np.abs(np.subtract(y_test, p_test))\n",
    "misclassified_idx = np.where(difference>4)\n",
    "#print(len(misclassified_idx[0]))\n",
    "i = np.random.choice(misclassified_idx[0])\n",
    "plt.imshow(x_test[i], cmap='gray')\n",
    "plt.title(\"True label: %s Predicted: %s\" % (y_test[i], p_test[i]));"
   ],
   "metadata": {
    "collapsed": false
   }
  }
 ],
 "metadata": {
  "kernelspec": {
   "display_name": "Python 3",
   "language": "python",
   "name": "python3"
  },
  "language_info": {
   "codemirror_mode": {
    "name": "ipython",
    "version": 2
   },
   "file_extension": ".py",
   "mimetype": "text/x-python",
   "name": "python",
   "nbconvert_exporter": "python",
   "pygments_lexer": "ipython2",
   "version": "2.7.6"
  }
 },
 "nbformat": 4,
 "nbformat_minor": 0
}

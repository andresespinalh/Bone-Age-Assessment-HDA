{
 "cells": [
  {
   "cell_type": "code",
   "execution_count": 7,
   "metadata": {},
   "outputs": [],
   "source": [
    "# Libraries\n",
    "import numpy as np\n",
    "import cv2 as cv\n",
    "import matplotlib.pyplot as plt\n",
    "import pandas as pd\n",
    "import os\n",
    "import random\n",
    "from scipy.stats import mode\n",
    "from helpers_preprocessing import *"
   ]
  },
  {
   "cell_type": "code",
   "execution_count": 9,
   "metadata": {},
   "outputs": [],
   "source": [
    "# Input & Output Paths\n",
    "img_paths_src_dict = {\n",
    "    'training': r'data\\Bone Age Datasets\\Bone Age Training Set\\boneage-training-dataset\\boneage-training-dataset'\n",
    "    , 'validation_1': r'data\\Bone Age Datasets\\Bone Age Validation Set\\boneage-validation-dataset-1\\boneage-validation-dataset-1'\n",
    "    , 'validation_2': r'data\\Bone Age Datasets\\Bone Age Validation Set\\boneage-validation-dataset-2\\boneage-validation-dataset-2'\n",
    "    , 'test': r'data\\Bone Age Datasets\\Bone Age Test Set\\Test Set Images'\n",
    "}\n",
    "\n",
    "img_paths_dest_dict = {\n",
    "    'training': r'data\\pre_processed\\training'\n",
    "    , 'validation_1': r'data\\pre_processed\\validation'\n",
    "    , 'validation_2': r'data\\pre_processed\\validation'\n",
    "    , 'test': r'data\\pre_processed\\test'\n",
    "}\n",
    "\n",
    "for path in img_paths_dest_dict.values():\n",
    "    path_exists = os.path.exists(path)\n",
    "    if not path_exists:\n",
    "        # Create the directory if it doesn't exist\n",
    "        print('not exists')\n",
    "        os.makedirs(path)\n",
    "\n",
    "# Get the relative paths for all images per split of the data\n",
    "img_rel_paths_dict = {}\n",
    "\n",
    "for split in img_paths_src_dict:\n",
    "    rel_paths_split = {}\n",
    "    dir = img_paths_src_dict[split]\n",
    "    file_names = [f for f in os.listdir(dir) if os.path.isfile(os.path.join(dir, f))]\n",
    "    relative_paths = [os.path.join(dir, f) for f in file_names]\n",
    "\n",
    "    for path in relative_paths:\n",
    "        img_id = int((path.split('\\\\')[-1]).split('.')[0])\n",
    "        rel_paths_split[img_id] = path\n",
    "\n",
    "    img_rel_paths_dict[split] = rel_paths_split"
   ]
  },
  {
   "cell_type": "code",
   "execution_count": 10,
   "metadata": {},
   "outputs": [],
   "source": [
    "# # Get the pre-processed data\n",
    "# export_experiment(img_rel_paths_dict, img_paths_dest_dict, 'original_r250p')\n",
    "# export_experiment(img_rel_paths_dict, img_paths_dest_dict, 'preprocessed_r250p')\n",
    "# export_experiment(img_rel_paths_dict, img_paths_dest_dict, 'preprocessed')"
   ]
  }
 ],
 "metadata": {
  "kernelspec": {
   "display_name": "hda_proj",
   "language": "python",
   "name": "python3"
  },
  "language_info": {
   "codemirror_mode": {
    "name": "ipython",
    "version": 3
   },
   "file_extension": ".py",
   "mimetype": "text/x-python",
   "name": "python",
   "nbconvert_exporter": "python",
   "pygments_lexer": "ipython3",
   "version": "3.10.9"
  },
  "orig_nbformat": 4,
  "vscode": {
   "interpreter": {
    "hash": "b96824b69147447e7a738cf6ac098c2bc9430d3fd7a5663236788e0b3cec0dad"
   }
  }
 },
 "nbformat": 4,
 "nbformat_minor": 2
}
